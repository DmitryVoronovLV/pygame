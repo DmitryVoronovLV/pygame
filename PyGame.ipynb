{
 "cells": [
  {
   "cell_type": "markdown",
   "metadata": {},
   "source": [
    "# PyGame library\n",
    "\n",
    "Pygame is a cross-platform set of Python modules designed for writing video games. It includes computer graphics and sound libraries designed to be used with the Python programming language.\n"
   ]
  },
  {
   "cell_type": "markdown",
   "metadata": {},
   "source": [
    "### 1. Install PyGame library"
   ]
  },
  {
   "cell_type": "code",
   "execution_count": 1,
   "metadata": {
    "scrolled": true
   },
   "outputs": [
    {
     "name": "stdout",
     "output_type": "stream",
     "text": [
      "Requirement already satisfied: pygame in c:\\users\\dima\\appdata\\local\\programs\\python\\python37-32\\lib\\site-packages (1.9.4)\n"
     ]
    }
   ],
   "source": [
    "!pip install pygame"
   ]
  },
  {
   "cell_type": "markdown",
   "metadata": {},
   "source": [
    "### 2. Import it"
   ]
  },
  {
   "cell_type": "code",
   "execution_count": 2,
   "metadata": {
    "scrolled": true
   },
   "outputs": [
    {
     "name": "stdout",
     "output_type": "stream",
     "text": [
      "pygame 1.9.4\n",
      "Hello from the pygame community. https://www.pygame.org/contribute.html\n"
     ]
    }
   ],
   "source": [
    "import pygame"
   ]
  },
  {
   "cell_type": "markdown",
   "metadata": {},
   "source": [
    "### 3. Create window\n",
    "\n",
    "Define screen size and window caption and close the window"
   ]
  },
  {
   "cell_type": "code",
   "execution_count": 60,
   "metadata": {},
   "outputs": [],
   "source": [
    "import pygame\n",
    "\n",
    "pygame.init()\n",
    "size = width, height = 800, 600\n",
    "screen = pygame.display.set_mode(size)\n",
    "pygame.display.set_caption('My First PyGame')\n",
    "\n",
    "#do something\n",
    "\n",
    "pygame.quit()"
   ]
  },
  {
   "cell_type": "markdown",
   "metadata": {},
   "source": [
    "## Now we are ready to start coding the insides of our game!\n",
    "\n",
    "First of all, let us generate the window for 3 seconds and then close it."
   ]
  },
  {
   "cell_type": "code",
   "execution_count": 2,
   "metadata": {},
   "outputs": [],
   "source": [
    "import time, pygame\n",
    "\n",
    "pygame.init()\n",
    "size = width, height = 800, 600\n",
    "screen = pygame.display.set_mode(size)\n",
    "pygame.display.set_caption('My First PyGame')\n",
    "\n",
    "time.sleep(3)\n",
    "\n",
    "pygame.quit()"
   ]
  },
  {
   "cell_type": "markdown",
   "metadata": {},
   "source": [
    "Yes! It works. Window appeared on 3 seconds. \n",
    "\n",
    "However, usually applications work in a different way. We do not define the exact time we want window to appear. We wait for the *event* (user to press the exit button) and terminate application.\n",
    "\n",
    "### Events"
   ]
  },
  {
   "cell_type": "code",
   "execution_count": 1,
   "metadata": {},
   "outputs": [
    {
     "name": "stdout",
     "output_type": "stream",
     "text": [
      "pygame 1.9.4\n",
      "Hello from the pygame community. https://www.pygame.org/contribute.html\n",
      "<Event(17-VideoExpose {})>\n",
      "<Event(16-VideoResize {'size': (800, 600), 'w': 800, 'h': 600})>\n",
      "<Event(1-ActiveEvent {'gain': 0, 'state': 1})>\n",
      "<Event(4-MouseMotion {'pos': (782, 367), 'rel': (782, 367), 'buttons': (0, 0, 0)})>\n",
      "<Event(1-ActiveEvent {'gain': 1, 'state': 1})>\n",
      "<Event(4-MouseMotion {'pos': (799, 44), 'rel': (17, -323), 'buttons': (0, 0, 0)})>\n",
      "<Event(4-MouseMotion {'pos': (798, 43), 'rel': (-1, -1), 'buttons': (0, 0, 0)})>\n",
      "<Event(4-MouseMotion {'pos': (797, 42), 'rel': (-1, -1), 'buttons': (0, 0, 0)})>\n",
      "<Event(4-MouseMotion {'pos': (797, 41), 'rel': (0, -1), 'buttons': (0, 0, 0)})>\n",
      "<Event(4-MouseMotion {'pos': (797, 40), 'rel': (0, -1), 'buttons': (0, 0, 0)})>\n",
      "<Event(4-MouseMotion {'pos': (796, 39), 'rel': (-1, -1), 'buttons': (0, 0, 0)})>\n",
      "<Event(4-MouseMotion {'pos': (796, 38), 'rel': (0, -1), 'buttons': (0, 0, 0)})>\n",
      "<Event(4-MouseMotion {'pos': (796, 37), 'rel': (0, -1), 'buttons': (0, 0, 0)})>\n",
      "<Event(4-MouseMotion {'pos': (796, 36), 'rel': (0, -1), 'buttons': (0, 0, 0)})>\n",
      "<Event(4-MouseMotion {'pos': (796, 35), 'rel': (0, -1), 'buttons': (0, 0, 0)})>\n",
      "<Event(4-MouseMotion {'pos': (796, 34), 'rel': (0, -1), 'buttons': (0, 0, 0)})>\n",
      "<Event(4-MouseMotion {'pos': (795, 34), 'rel': (-1, 0), 'buttons': (0, 0, 0)})>\n",
      "<Event(4-MouseMotion {'pos': (795, 33), 'rel': (0, -1), 'buttons': (0, 0, 0)})>\n",
      "<Event(4-MouseMotion {'pos': (795, 32), 'rel': (0, -1), 'buttons': (0, 0, 0)})>\n",
      "<Event(4-MouseMotion {'pos': (794, 31), 'rel': (-1, -1), 'buttons': (0, 0, 0)})>\n",
      "<Event(4-MouseMotion {'pos': (793, 30), 'rel': (-1, -1), 'buttons': (0, 0, 0)})>\n",
      "<Event(4-MouseMotion {'pos': (792, 29), 'rel': (-1, -1), 'buttons': (0, 0, 0)})>\n",
      "<Event(4-MouseMotion {'pos': (792, 28), 'rel': (0, -1), 'buttons': (0, 0, 0)})>\n",
      "<Event(4-MouseMotion {'pos': (791, 27), 'rel': (-1, -1), 'buttons': (0, 0, 0)})>\n",
      "<Event(4-MouseMotion {'pos': (790, 26), 'rel': (-1, -1), 'buttons': (0, 0, 0)})>\n",
      "<Event(4-MouseMotion {'pos': (790, 25), 'rel': (0, -1), 'buttons': (0, 0, 0)})>\n",
      "<Event(4-MouseMotion {'pos': (789, 25), 'rel': (-1, 0), 'buttons': (0, 0, 0)})>\n",
      "<Event(4-MouseMotion {'pos': (789, 24), 'rel': (0, -1), 'buttons': (0, 0, 0)})>\n",
      "<Event(4-MouseMotion {'pos': (788, 24), 'rel': (-1, 0), 'buttons': (0, 0, 0)})>\n",
      "<Event(4-MouseMotion {'pos': (787, 23), 'rel': (-1, -1), 'buttons': (0, 0, 0)})>\n",
      "<Event(4-MouseMotion {'pos': (786, 21), 'rel': (-1, -2), 'buttons': (0, 0, 0)})>\n",
      "<Event(4-MouseMotion {'pos': (786, 20), 'rel': (0, -1), 'buttons': (0, 0, 0)})>\n",
      "<Event(4-MouseMotion {'pos': (785, 19), 'rel': (-1, -1), 'buttons': (0, 0, 0)})>\n",
      "<Event(4-MouseMotion {'pos': (784, 19), 'rel': (-1, 0), 'buttons': (0, 0, 0)})>\n",
      "<Event(4-MouseMotion {'pos': (784, 18), 'rel': (0, -1), 'buttons': (0, 0, 0)})>\n",
      "<Event(4-MouseMotion {'pos': (783, 17), 'rel': (-1, -1), 'buttons': (0, 0, 0)})>\n",
      "<Event(4-MouseMotion {'pos': (783, 16), 'rel': (0, -1), 'buttons': (0, 0, 0)})>\n",
      "<Event(4-MouseMotion {'pos': (782, 16), 'rel': (-1, 0), 'buttons': (0, 0, 0)})>\n",
      "<Event(4-MouseMotion {'pos': (782, 15), 'rel': (0, -1), 'buttons': (0, 0, 0)})>\n",
      "<Event(4-MouseMotion {'pos': (781, 15), 'rel': (-1, 0), 'buttons': (0, 0, 0)})>\n",
      "<Event(4-MouseMotion {'pos': (780, 14), 'rel': (-1, -1), 'buttons': (0, 0, 0)})>\n",
      "<Event(4-MouseMotion {'pos': (780, 13), 'rel': (0, -1), 'buttons': (0, 0, 0)})>\n",
      "<Event(4-MouseMotion {'pos': (780, 12), 'rel': (0, -1), 'buttons': (0, 0, 0)})>\n",
      "<Event(4-MouseMotion {'pos': (780, 11), 'rel': (0, -1), 'buttons': (0, 0, 0)})>\n",
      "<Event(4-MouseMotion {'pos': (779, 11), 'rel': (-1, 0), 'buttons': (0, 0, 0)})>\n",
      "<Event(4-MouseMotion {'pos': (779, 10), 'rel': (0, -1), 'buttons': (0, 0, 0)})>\n",
      "<Event(4-MouseMotion {'pos': (778, 10), 'rel': (-1, 0), 'buttons': (0, 0, 0)})>\n",
      "<Event(4-MouseMotion {'pos': (777, 9), 'rel': (-1, -1), 'buttons': (0, 0, 0)})>\n",
      "<Event(4-MouseMotion {'pos': (777, 8), 'rel': (0, -1), 'buttons': (0, 0, 0)})>\n",
      "<Event(4-MouseMotion {'pos': (776, 7), 'rel': (-1, -1), 'buttons': (0, 0, 0)})>\n",
      "<Event(4-MouseMotion {'pos': (775, 7), 'rel': (-1, 0), 'buttons': (0, 0, 0)})>\n",
      "<Event(4-MouseMotion {'pos': (775, 6), 'rel': (0, -1), 'buttons': (0, 0, 0)})>\n",
      "<Event(4-MouseMotion {'pos': (774, 6), 'rel': (-1, 0), 'buttons': (0, 0, 0)})>\n",
      "<Event(4-MouseMotion {'pos': (774, 5), 'rel': (0, -1), 'buttons': (0, 0, 0)})>\n",
      "<Event(4-MouseMotion {'pos': (773, 4), 'rel': (-1, -1), 'buttons': (0, 0, 0)})>\n",
      "<Event(4-MouseMotion {'pos': (772, 3), 'rel': (-1, -1), 'buttons': (0, 0, 0)})>\n",
      "<Event(4-MouseMotion {'pos': (771, 2), 'rel': (-1, -1), 'buttons': (0, 0, 0)})>\n",
      "<Event(4-MouseMotion {'pos': (771, 1), 'rel': (0, -1), 'buttons': (0, 0, 0)})>\n",
      "<Event(4-MouseMotion {'pos': (770, 1), 'rel': (-1, 0), 'buttons': (0, 0, 0)})>\n",
      "<Event(4-MouseMotion {'pos': (770, 0), 'rel': (0, -1), 'buttons': (0, 0, 0)})>\n",
      "<Event(4-MouseMotion {'pos': (769, 0), 'rel': (-1, 0), 'buttons': (0, 0, 0)})>\n",
      "<Event(1-ActiveEvent {'gain': 0, 'state': 1})>\n",
      "<Event(12-Quit {})>\n"
     ]
    },
    {
     "ename": "SystemExit",
     "evalue": "",
     "output_type": "error",
     "traceback": [
      "An exception has occurred, use %tb to see the full traceback.\n",
      "\u001b[1;31mSystemExit\u001b[0m\n"
     ]
    },
    {
     "name": "stderr",
     "output_type": "stream",
     "text": [
      "c:\\users\\dima\\appdata\\local\\programs\\python\\python37-32\\lib\\site-packages\\IPython\\core\\interactiveshell.py:3275: UserWarning: To exit: use 'exit', 'quit', or Ctrl-D.\n",
      "  warn(\"To exit: use 'exit', 'quit', or Ctrl-D.\", stacklevel=1)\n"
     ]
    }
   ],
   "source": [
    "import pygame\n",
    "\n",
    "size = width, height = 800, 600\n",
    "screen = pygame.display.set_mode(size)\n",
    "\n",
    "\n",
    "while 1:    \n",
    "    for event in pygame.event.get():\n",
    "        print(event)\n",
    "        if event.type == pygame.QUIT:\n",
    "            pygame.quit()\n",
    "            raise SystemExit\n"
   ]
  },
  {
   "cell_type": "markdown",
   "metadata": {},
   "source": [
    "As we can see, pygame detects all the events, that happen with the app:\n",
    "+ mouse movement\n",
    "+ mouse clicks\n",
    "+ keyboard keydown/keyup\n",
    "\n",
    "pygame.QUIT event was raised when user pressed the exit button. That is why it is the last one in the log list"
   ]
  },
  {
   "cell_type": "markdown",
   "metadata": {},
   "source": [
    "Now let us use all our event knowledge to move the object with WASD.\n",
    "\n",
    "### 1. load an image"
   ]
  },
  {
   "cell_type": "code",
   "execution_count": 4,
   "metadata": {},
   "outputs": [
    {
     "name": "stdout",
     "output_type": "stream",
     "text": [
      "<rect(0, 0, 117, 121)>\n",
      "<rect(100, 100, 117, 121)>\n"
     ]
    }
   ],
   "source": [
    "earth = pygame.image.load(\"src/earth_small.png\")\n",
    "earthrect = earth.get_rect()    #essential for conveniently moving the object\n",
    "print(earthrect)                #type <rect(x,y,width,height)>\n",
    "\n",
    "earthrect = earthrect.move([100,100])  #this way we can move image\n",
    "\n",
    "print(earthrect)                #type <rect(x+100,y+100,width,height)>"
   ]
  },
  {
   "cell_type": "markdown",
   "metadata": {},
   "source": [
    "### 2. define speed [xspeed,yspeed] "
   ]
  },
  {
   "cell_type": "code",
   "execution_count": null,
   "metadata": {},
   "outputs": [],
   "source": [
    "speed = [2 , 2]"
   ]
  },
  {
   "cell_type": "markdown",
   "metadata": {},
   "source": [
    "### 3. define the borders and make the image move. Once it reaches the border, reverse the speed."
   ]
  },
  {
   "cell_type": "code",
   "execution_count": 5,
   "metadata": {},
   "outputs": [
    {
     "ename": "SystemExit",
     "evalue": "",
     "output_type": "error",
     "traceback": [
      "An exception has occurred, use %tb to see the full traceback.\n",
      "\u001b[1;31mSystemExit\u001b[0m\n"
     ]
    }
   ],
   "source": [
    "import pygame\n",
    "\n",
    "size = width, height = 800, 600\n",
    "speed = [2 , 2]\n",
    "screen = pygame.display.set_mode(size)\n",
    "\n",
    "earth = pygame.image.load(\"src/earth_small.png\")\n",
    "earthrect = earth.get_rect()\n",
    "\n",
    "while 1:    \n",
    "    for event in pygame.event.get():\n",
    "        if event.type == pygame.QUIT:\n",
    "            pygame.quit()\n",
    "            raise SystemExit\n",
    "\n",
    "    earthrect = earthrect.move(speed)\n",
    "    if earthrect.left < 0 or earthrect.right > width:\n",
    "        speed[0] = -speed[0]\n",
    "    if earthrect.top < 0 or earthrect.bottom > height:\n",
    "        speed[1] = -speed[1]\n",
    "\n",
    "    screen.fill((0,0,0))             #Every frame should be firsly filled with black colour - try to comment\n",
    "    screen.blit(earth, earthrect)    \n",
    "    pygame.display.flip()            #This makes everything we have drawn on the screen Surface become visible.\n",
    "\n"
   ]
  },
  {
   "cell_type": "markdown",
   "metadata": {},
   "source": [
    "### 4. define framerate, in order to adjust the speed."
   ]
  },
  {
   "cell_type": "code",
   "execution_count": 6,
   "metadata": {},
   "outputs": [
    {
     "ename": "SystemExit",
     "evalue": "",
     "output_type": "error",
     "traceback": [
      "An exception has occurred, use %tb to see the full traceback.\n",
      "\u001b[1;31mSystemExit\u001b[0m\n"
     ]
    }
   ],
   "source": [
    "import pygame\n",
    "\n",
    "size = width, height = 800, 600\n",
    "speed = [2 , 2]\n",
    "screen = pygame.display.set_mode(size)\n",
    "\n",
    "earth = pygame.image.load(\"src/earth_small.png\")\n",
    "earthrect = earth.get_rect()\n",
    "\n",
    "#==========================\n",
    "clock = pygame.time.Clock()\n",
    "#==========================\n",
    "\n",
    "while 1:    \n",
    "    for event in pygame.event.get():\n",
    "        if event.type == pygame.QUIT:\n",
    "            pygame.quit()\n",
    "            raise SystemExit\n",
    "\n",
    "    earthrect = earthrect.move(speed)\n",
    "    if earthrect.left < 0 or earthrect.right > width:\n",
    "        speed[0] = -speed[0]\n",
    "    if earthrect.top < 0 or earthrect.bottom > height:\n",
    "        speed[1] = -speed[1]\n",
    "\n",
    "    screen.fill((0,0,0))\n",
    "    screen.blit(earth, earthrect)\n",
    "    pygame.display.flip()\n",
    "    #==========================\n",
    "    clock.tick(60)                    #60 fps\n",
    "    #==========================\n"
   ]
  },
  {
   "cell_type": "markdown",
   "metadata": {},
   "source": [
    "### 5. use pyname.KEYDOWN events to get the keyboard events. Make speed adjustments on WASD pressed"
   ]
  },
  {
   "cell_type": "code",
   "execution_count": 7,
   "metadata": {},
   "outputs": [
    {
     "ename": "SystemExit",
     "evalue": "",
     "output_type": "error",
     "traceback": [
      "An exception has occurred, use %tb to see the full traceback.\n",
      "\u001b[1;31mSystemExit\u001b[0m\n"
     ]
    }
   ],
   "source": [
    "import pygame\n",
    "\n",
    "size = width, height = 800, 600\n",
    "speed = [2 , 2]\n",
    "screen = pygame.display.set_mode(size)\n",
    "\n",
    "earth = pygame.image.load(\"src/earth_small.png\")\n",
    "earthrect = earth.get_rect()\n",
    "\n",
    "clock = pygame.time.Clock()\n",
    "\n",
    "while 1:    \n",
    "    for event in pygame.event.get():\n",
    "        if event.type == pygame.QUIT:\n",
    "            pygame.quit()\n",
    "            raise SystemExit\n",
    "            \n",
    "        if event.type == pygame.KEYDOWN:\n",
    "            if event.key == pygame.K_w:\n",
    "                speed[1] -=1                \n",
    "            if event.key == pygame.K_s:\n",
    "                speed[1] +=1\n",
    "            if event.key == pygame.K_a:\n",
    "                speed[0] -=1\n",
    "            if event.key == pygame.K_d:\n",
    "                speed[0] +=1\n",
    "\n",
    "    earthrect = earthrect.move(speed)\n",
    "    if earthrect.left < 0 or earthrect.right > width:\n",
    "        speed[0] = -speed[0]\n",
    "    if earthrect.top < 0 or earthrect.bottom > height:\n",
    "        speed[1] = -speed[1]\n",
    "\n",
    "    screen.fill((0,0,0))\n",
    "    screen.blit(earth, earthrect)\n",
    "    pygame.display.flip()\n",
    "    clock.tick(60)   \n",
    "\n"
   ]
  },
  {
   "cell_type": "markdown",
   "metadata": {},
   "source": [
    "### 6. make a planet stop on space button pressed and start on space release"
   ]
  },
  {
   "cell_type": "code",
   "execution_count": 8,
   "metadata": {},
   "outputs": [
    {
     "ename": "SystemExit",
     "evalue": "",
     "output_type": "error",
     "traceback": [
      "An exception has occurred, use %tb to see the full traceback.\n",
      "\u001b[1;31mSystemExit\u001b[0m\n"
     ]
    }
   ],
   "source": [
    "import pygame\n",
    "\n",
    "size = width, height = 800, 600\n",
    "speed = [2 , 2]\n",
    "screen = pygame.display.set_mode(size)\n",
    "\n",
    "earth = pygame.image.load(\"src/earth_small.png\")\n",
    "earthrect = earth.get_rect()\n",
    "\n",
    "clock = pygame.time.Clock()\n",
    "\n",
    "while 1:    \n",
    "    #===========\n",
    "    if speed!=[0,0]:\n",
    "        previousSpeed = speed              # in order to give the previous speed to the planet after space button is released\n",
    "    #===========\n",
    "    for event in pygame.event.get():\n",
    "        if event.type == pygame.QUIT:\n",
    "            pygame.quit()\n",
    "            raise SystemExit\n",
    "            \n",
    "        if event.type == pygame.KEYDOWN:\n",
    "            #===========\n",
    "            if event.key == pygame.K_SPACE:\n",
    "                speed = [0,0]\n",
    "            #===========\n",
    "            if event.key == pygame.K_w:\n",
    "                speed[1] -=1                \n",
    "            if event.key == pygame.K_s:\n",
    "                speed[1] +=1\n",
    "            if event.key == pygame.K_a:\n",
    "                speed[0] -=1\n",
    "            if event.key == pygame.K_d:\n",
    "                speed[0] +=1\n",
    "        #===========\n",
    "        if event.type == pygame.KEYUP:\n",
    "            if event.key == pygame.K_SPACE:\n",
    "                speed = previousSpeed\n",
    "        #===========\n",
    "\n",
    "    earthrect = earthrect.move(speed)\n",
    "    if earthrect.left < 0 or earthrect.right > width:\n",
    "        speed[0] = -speed[0]\n",
    "    if earthrect.top < 0 or earthrect.bottom > height:\n",
    "        speed[1] = -speed[1]\n",
    "\n",
    "    screen.fill((0,0,0))\n",
    "    screen.blit(earth, earthrect)\n",
    "    pygame.display.flip()\n",
    "    clock.tick(60)   \n",
    "\n"
   ]
  },
  {
   "cell_type": "markdown",
   "metadata": {},
   "source": [
    "### 7. for convenience, print the speed on the screen"
   ]
  },
  {
   "cell_type": "code",
   "execution_count": null,
   "metadata": {},
   "outputs": [],
   "source": [
    "import pygame\n",
    "\n",
    "size = width, height = 800, 600\n",
    "speed = [2 , 2]\n",
    "screen = pygame.display.set_mode(size)\n",
    "\n",
    "earth = pygame.image.load(\"src/earth_small.png\")\n",
    "earthrect = earth.get_rect()\n",
    "\n",
    "#===========\n",
    "pygame.font.init() \n",
    "myfont = pygame.font.SysFont('Comic Sans MS', 30)\n",
    "#===========\n",
    "\n",
    "clock = pygame.time.Clock()\n",
    "\n",
    "while 1:    \n",
    "    if speed!=[0,0]:\n",
    "        previousSpeed = speed\n",
    "    for event in pygame.event.get():\n",
    "        if event.type == pygame.QUIT:\n",
    "            pygame.quit()\n",
    "            raise SystemExit\n",
    "            \n",
    "        if event.type == pygame.KEYDOWN:\n",
    "            if event.key == pygame.K_SPACE:\n",
    "                speed = [0,0]\n",
    "            if event.key == pygame.K_w:\n",
    "                speed[1] -=1                \n",
    "            if event.key == pygame.K_s:\n",
    "                speed[1] +=1\n",
    "            if event.key == pygame.K_a:\n",
    "                speed[0] -=1\n",
    "            if event.key == pygame.K_d:\n",
    "                speed[0] +=1\n",
    "        if event.type == pygame.KEYUP:\n",
    "            if event.key == pygame.K_SPACE:\n",
    "                speed = previousSpeed\n",
    "    \n",
    "    earthrect = earthrect.move(speed)\n",
    "    if earthrect.left < 0 or earthrect.right > width:\n",
    "        speed[0] = -speed[0]\n",
    "    if earthrect.top < 0 or earthrect.bottom > height:\n",
    "        speed[1] = -speed[1]\n",
    "\n",
    "    screen.fill((0,0,0))\n",
    "    screen.blit(earth, earthrect)\n",
    "    \n",
    "    #===========\n",
    "    text = 'speed:' + str(speed)\n",
    "    textsurface = myfont.render(text, False, (255, 255, 255))\n",
    "    screen.blit(textsurface,(0,0))\n",
    "    #===========\n",
    "    \n",
    "    pygame.display.flip()\n",
    "    clock.tick(60)"
   ]
  },
  {
   "cell_type": "markdown",
   "metadata": {},
   "source": [
    "### 8. add a background and a bounce counter"
   ]
  },
  {
   "cell_type": "code",
   "execution_count": 1,
   "metadata": {},
   "outputs": [
    {
     "name": "stdout",
     "output_type": "stream",
     "text": [
      "pygame 1.9.4\n",
      "Hello from the pygame community. https://www.pygame.org/contribute.html\n"
     ]
    },
    {
     "ename": "SystemExit",
     "evalue": "",
     "output_type": "error",
     "traceback": [
      "An exception has occurred, use %tb to see the full traceback.\n",
      "\u001b[1;31mSystemExit\u001b[0m\n"
     ]
    },
    {
     "name": "stderr",
     "output_type": "stream",
     "text": [
      "c:\\users\\dima\\appdata\\local\\programs\\python\\python37-32\\lib\\site-packages\\IPython\\core\\interactiveshell.py:3275: UserWarning: To exit: use 'exit', 'quit', or Ctrl-D.\n",
      "  warn(\"To exit: use 'exit', 'quit', or Ctrl-D.\", stacklevel=1)\n"
     ]
    }
   ],
   "source": [
    "import pygame\n",
    "\n",
    "size = width, height = 800, 600\n",
    "speed = [2 , 2]\n",
    "screen = pygame.display.set_mode(size)\n",
    "\n",
    "earth = pygame.image.load(\"src/earth_small.png\")\n",
    "earthrect = earth.get_rect()\n",
    "\n",
    "#===========\n",
    "bg = pygame.image.load(\"src/bg.jpg\")\n",
    "#===========\n",
    "\n",
    "pygame.font.init() \n",
    "myfont = pygame.font.SysFont('Comic Sans MS', 30)\n",
    "\n",
    "clock = pygame.time.Clock()\n",
    "\n",
    "#===========\n",
    "bounceTimes = 0\n",
    "#===========\n",
    "\n",
    "while 1:    \n",
    "    if speed!=[0,0]:\n",
    "        previousSpeed = speed\n",
    "    for event in pygame.event.get():\n",
    "        if event.type == pygame.QUIT:\n",
    "            pygame.quit()\n",
    "            raise SystemExit\n",
    "            \n",
    "        if event.type == pygame.KEYDOWN:\n",
    "            if event.key == pygame.K_SPACE:\n",
    "                speed = [0,0]\n",
    "            if event.key == pygame.K_w:\n",
    "                speed[1] -=1                \n",
    "            if event.key == pygame.K_s:\n",
    "                speed[1] +=1\n",
    "            if event.key == pygame.K_a:\n",
    "                speed[0] -=1\n",
    "            if event.key == pygame.K_d:\n",
    "                speed[0] +=1\n",
    "        if event.type == pygame.KEYUP:\n",
    "            if event.key == pygame.K_SPACE:\n",
    "                speed = previousSpeed\n",
    "    \n",
    "    earthrect = earthrect.move(speed)\n",
    "    if earthrect.left < 0 or earthrect.right > width:\n",
    "        speed[0] = -speed[0]\n",
    "        #===========\n",
    "        bounceTimes+=1\n",
    "        #===========\n",
    "    if earthrect.top < 0 or earthrect.bottom > height:\n",
    "        speed[1] = -speed[1]\n",
    "        #===========\n",
    "        bounceTimes+=1\n",
    "        #===========\n",
    "\n",
    "    screen.blit(bg,(0,0))\n",
    "    screen.blit(earth, earthrect)\n",
    "    \n",
    "    text = 'speed:' + str(speed)\n",
    "    textsurface = myfont.render(text, False, (255, 255, 255))\n",
    "    screen.blit(textsurface,(0,0))\n",
    "    #===========\n",
    "    textsurface = myfont.render(str(bounceTimes), False, (255, 255, 255))\n",
    "    screen.blit(textsurface,(width-70,0))\n",
    "    #===========\n",
    "    pygame.display.flip()\n",
    "    clock.tick(60)"
   ]
  },
  {
   "cell_type": "markdown",
   "metadata": {},
   "source": [
    "### 9. On mouse click teleport the planet to the mouse cursor position (sometimes, mouse can be too close to the borders, consider it)"
   ]
  },
  {
   "cell_type": "code",
   "execution_count": 2,
   "metadata": {},
   "outputs": [
    {
     "ename": "SystemExit",
     "evalue": "",
     "output_type": "error",
     "traceback": [
      "An exception has occurred, use %tb to see the full traceback.\n",
      "\u001b[1;31mSystemExit\u001b[0m\n"
     ]
    }
   ],
   "source": [
    "import pygame\n",
    "\n",
    "size = width, height = 800, 600\n",
    "speed = [2 , 2]\n",
    "screen = pygame.display.set_mode(size)\n",
    "\n",
    "earth = pygame.image.load(\"src/earth_small.png\")\n",
    "earthrect = earth.get_rect()\n",
    "\n",
    "bg = pygame.image.load(\"src/bg.jpg\")\n",
    "\n",
    "pygame.font.init() \n",
    "myfont = pygame.font.SysFont('Comic Sans MS', 30)\n",
    "\n",
    "clock = pygame.time.Clock()\n",
    "\n",
    "bounceTimes = 0\n",
    "\n",
    "while 1:    \n",
    "    if speed!=[0,0]:\n",
    "        previousSpeed = speed\n",
    "    for event in pygame.event.get():\n",
    "        if event.type == pygame.QUIT:\n",
    "            pygame.display.quit()\n",
    "            pygame.quit()\n",
    "            raise SystemExit\n",
    "            \n",
    "        if event.type == pygame.KEYDOWN:\n",
    "            if event.key == pygame.K_SPACE:\n",
    "                speed = [0,0]\n",
    "            if event.key == pygame.K_w:\n",
    "                speed[1] -=1                \n",
    "            if event.key == pygame.K_s:\n",
    "                speed[1] +=1\n",
    "            if event.key == pygame.K_a:\n",
    "                speed[0] -=1\n",
    "            if event.key == pygame.K_d:\n",
    "                speed[0] +=1\n",
    "        if event.type == pygame.KEYUP:\n",
    "            if event.key == pygame.K_SPACE:\n",
    "                speed = previousSpeed\n",
    "        #===========\n",
    "        if event.type == pygame.MOUSEBUTTONDOWN:\n",
    "            mousex, mousey = pygame.mouse.get_pos()\n",
    "            if mousex >= width -earthrect[2]/2:\n",
    "                mousex = width - earthrect[2]/2 \n",
    "            if mousex <= earthrect[2]/2:\n",
    "                mousex = earthrect[2]/2 \n",
    "            if mousey >= height -earthrect[3]/2:\n",
    "                mousey = height - earthrect[3]/2 \n",
    "            if mousey <= earthrect[3]/2:\n",
    "                mousey = earthrect[3]/2 \n",
    "            earthrect = earthrect.move([mousex-earthrect[0]-earthrect[2]/2,mousey-earthrect[1]-earthrect[3]/2])\n",
    "        #===========\n",
    "    \n",
    "    earthrect = earthrect.move(speed)\n",
    "    if earthrect.left < 0 or earthrect.right > width:\n",
    "        speed[0] = -speed[0]\n",
    "        bounceTimes+=1\n",
    "    if earthrect.top < 0 or earthrect.bottom > height:\n",
    "        speed[1] = -speed[1]\n",
    "        bounceTimes+=1\n",
    "\n",
    "    screen.blit(bg,(0,0))\n",
    "    screen.blit(earth, earthrect)\n",
    "    \n",
    "    text = 'speed:' + str(speed)\n",
    "    textsurface = myfont.render(text, False, (255, 255, 255))\n",
    "    screen.blit(textsurface,(0,0))\n",
    "    textsurface = myfont.render(str(bounceTimes), False, (255, 255, 255))\n",
    "    screen.blit(textsurface,(width-70,0))\n",
    "    pygame.display.flip()\n",
    "    clock.tick(60)\n",
    "\n"
   ]
  },
  {
   "cell_type": "markdown",
   "metadata": {},
   "source": [
    "These are basics of the PyGame library\n",
    "\n",
    "\n",
    "## Feel free to experiment"
   ]
  }
 ],
 "metadata": {
  "kernelspec": {
   "display_name": "Python 3",
   "language": "python",
   "name": "python3"
  },
  "language_info": {
   "codemirror_mode": {
    "name": "ipython",
    "version": 3
   },
   "file_extension": ".py",
   "mimetype": "text/x-python",
   "name": "python",
   "nbconvert_exporter": "python",
   "pygments_lexer": "ipython3",
   "version": "3.7.1"
  }
 },
 "nbformat": 4,
 "nbformat_minor": 2
}
